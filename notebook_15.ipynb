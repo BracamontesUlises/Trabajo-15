{
 "cells": [
  {
   "cell_type": "markdown",
   "metadata": {},
   "source": [
    "# Descripción del proyecto\n",
    "\n",
    "La compañía Sweet Lift Taxi ha recopilado datos históricos sobre pedidos de taxis en los aeropuertos. Para atraer a más conductores durante las horas pico, necesitamos predecir la cantidad de pedidos de taxis para la próxima hora. Construye un modelo para dicha predicción.\n",
    "\n",
    "La métrica RECM en el conjunto de prueba no debe ser superior a 48.\n",
    "\n",
    "## Instrucciones del proyecto.\n",
    "\n",
    "1. Descarga los datos y haz el remuestreo por una hora.\n",
    "2. Analiza los datos\n",
    "3. Entrena diferentes modelos con diferentes hiperparámetros. La muestra de prueba debe ser el 10% del conjunto de datos inicial.4. Prueba los datos usando la muestra de prueba y proporciona una conclusión.\n",
    "\n",
    "## Descripción de los datos\n",
    "\n",
    "Los datos se almacenan en el archivo `taxi.csv`. \t\n",
    "El número de pedidos está en la columna `num_orders`."
   ]
  },
  {
   "cell_type": "markdown",
   "metadata": {},
   "source": [
    "## Preparación"
   ]
  },
  {
   "cell_type": "code",
   "execution_count": 11,
   "metadata": {},
   "outputs": [],
   "source": [
    "# imprtacion de librerias para el trabajo\n",
    "import pandas as pd\n",
    "import numpy as np\n",
    "from sklearn.model_selection import train_test_split\n",
    "from sklearn.linear_model import LinearRegression\n",
    "from sklearn.tree import DecisionTreeClassifier\n",
    "from sklearn.ensemble import RandomForestClassifier\n",
    "from xgboost import XGBRegressor\n",
    "import matplotlib.pyplot as plt\n",
    "from sklearn.metrics import mean_squared_error\n"
   ]
  },
  {
   "cell_type": "code",
   "execution_count": 2,
   "metadata": {},
   "outputs": [],
   "source": [
    "#lectura del data set\n",
    "data = pd.read_csv('datasets/taxi.csv')"
   ]
  },
  {
   "cell_type": "code",
   "execution_count": 3,
   "metadata": {},
   "outputs": [
    {
     "name": "stdout",
     "output_type": "stream",
     "text": [
      "<class 'pandas.core.frame.DataFrame'>\n",
      "RangeIndex: 26496 entries, 0 to 26495\n",
      "Data columns (total 2 columns):\n",
      " #   Column      Non-Null Count  Dtype \n",
      "---  ------      --------------  ----- \n",
      " 0   datetime    26496 non-null  object\n",
      " 1   num_orders  26496 non-null  int64 \n",
      "dtypes: int64(1), object(1)\n",
      "memory usage: 414.1+ KB\n"
     ]
    }
   ],
   "source": [
    "data.info()"
   ]
  },
  {
   "cell_type": "code",
   "execution_count": 4,
   "metadata": {},
   "outputs": [
    {
     "data": {
      "text/plain": [
       "datetime      0\n",
       "num_orders    0\n",
       "dtype: int64"
      ]
     },
     "execution_count": 4,
     "metadata": {},
     "output_type": "execute_result"
    }
   ],
   "source": [
    "data.isnull().sum()\n",
    "data.isna().sum()"
   ]
  },
  {
   "cell_type": "code",
   "execution_count": 5,
   "metadata": {},
   "outputs": [
    {
     "name": "stdout",
     "output_type": "stream",
     "text": [
      "              datetime  num_orders\n",
      "0  2018-03-01 00:00:00           9\n",
      "1  2018-03-01 00:10:00          14\n",
      "2  2018-03-01 00:20:00          28\n",
      "3  2018-03-01 00:30:00          20\n",
      "4  2018-03-01 00:40:00          32\n"
     ]
    }
   ],
   "source": [
    "print(data.head(5))"
   ]
  },
  {
   "cell_type": "markdown",
   "metadata": {},
   "source": [
    "## Análisis"
   ]
  },
  {
   "cell_type": "code",
   "execution_count": 6,
   "metadata": {},
   "outputs": [
    {
     "name": "stdout",
     "output_type": "stream",
     "text": [
      "<class 'pandas.core.frame.DataFrame'>\n",
      "RangeIndex: 26496 entries, 0 to 26495\n",
      "Data columns (total 2 columns):\n",
      " #   Column      Non-Null Count  Dtype         \n",
      "---  ------      --------------  -----         \n",
      " 0   datetime    26496 non-null  datetime64[ns]\n",
      " 1   num_orders  26496 non-null  int64         \n",
      "dtypes: datetime64[ns](1), int64(1)\n",
      "memory usage: 414.1 KB\n"
     ]
    }
   ],
   "source": [
    "# cambio de la celda de datetime de obj a datetme\n",
    "data['datetime'] = pd.to_datetime(data['datetime'])\n",
    "data.info()"
   ]
  },
  {
   "cell_type": "code",
   "execution_count": 7,
   "metadata": {},
   "outputs": [],
   "source": [
    "# indexacion de los datos con forme a una hora\n",
    "data = data.set_index('datetime')\n",
    "hourly_data = data.resample('1h').sum()"
   ]
  },
  {
   "cell_type": "code",
   "execution_count": 8,
   "metadata": {},
   "outputs": [
    {
     "data": {
      "text/plain": [
       "<Axes: title={'center': 'Promedio de pedidos por hora del día'}, xlabel='Hora del día', ylabel='Pedidos promedio'>"
      ]
     },
     "execution_count": 8,
     "metadata": {},
     "output_type": "execute_result"
    },
    {
     "data": {
      "image/png": "[encoded data removed]",
      "text/plain": [
       "<Figure size 1000x500 with 1 Axes>"
      ]
     },
     "metadata": {},
     "output_type": "display_data"
    }
   ],
   "source": [
    "hourly_data['horas'] = hourly_data.index.hour\n",
    "\n",
    "# Ahora usamos 'horas', no 'hour'\n",
    "hourly_data.groupby('horas')['num_orders'].mean().plot(\n",
    "    kind='bar',\n",
    "    title='Promedio de pedidos por hora del día',\n",
    "    xlabel='Hora del día',\n",
    "    ylabel='Pedidos promedio',\n",
    "    figsize=(10, 5)\n",
    ")\n"
   ]
  },
  {
   "cell_type": "markdown",
   "metadata": {},
   "source": [
    "Se utilizó una gráfica de barras para visualizar la cantidad promedio de pedidos de taxis por cada hora del día. Esta visualización permite identificar las horas con mayor demanda. Se observa que la hora 0 (medianoche) presenta el mayor promedio de pedidos, lo que indica una posible alta demanda nocturna, probablemente relacionada con traslados desde eventos, turnos nocturnos o llegadas al aeropuerto. También se identifican otros picos de demanda en las horas 2, 16 y 23"
   ]
  },
  {
   "cell_type": "markdown",
   "metadata": {},
   "source": [
    "## Formación"
   ]
  },
  {
   "cell_type": "code",
   "execution_count": 9,
   "metadata": {},
   "outputs": [],
   "source": [
    "hourly_data['dia'] = hourly_data.index.day\n",
    "hourly_data['semana'] = hourly_data.index.dayofweek\n",
    "hourly_data['mes'] = hourly_data.index.month\n",
    "hourly_data['año'] = hourly_data.index.year"
   ]
  },
  {
   "cell_type": "code",
   "execution_count": null,
   "metadata": {},
   "outputs": [],
   "source": [
    "#division de datos para el entrenamiento de ML\n",
    "test_size = int(len(hourly_data) * 0.1)\n",
    "\n",
    "train = hourly_data[:-test_size]\n",
    "test = hourly_data[-test_size:]"
   ]
  },
  {
   "cell_type": "markdown",
   "metadata": {},
   "source": [
    "## Prueba"
   ]
  },
  {
   "cell_type": "code",
   "execution_count": 15,
   "metadata": {},
   "outputs": [],
   "source": [
    "def entrenamiento(features, target):\n",
    "    # divisiond e entranmiento de 90% prueba y 10% entrenamiento\n",
    "    X_train, X_test, y_train, y_test = train_test_split(features, target, test_size=0.1, random_state=12345) \n",
    "\n",
    "    # modelos con los cuales experimentare\n",
    "    modelos = {\n",
    "        'Regresion lineal': LinearRegression(),\n",
    "        'Arbol de decision': DecisionTreeClassifier(random_state=12345),\n",
    "        'Bosque aleatorio': RandomForestClassifier(n_estimators=100, random_state=12345),\n",
    "        'XGboost': XGBRegressor(n_estimartors=100, learnig_rate=0.1, random_state=12345, verbosity=0)\n",
    "    }\n",
    "\n",
    "    resultados = {}\n",
    "\n",
    "    for nombre, modelo in modelos.items():\n",
    "        modelo.fit(X_train, y_train)\n",
    "        predicciones = modelo.predict(X_test)\n",
    "        rmse = np.sqrt(mean_squared_error(y_test, predicciones))\n",
    "        resultados[nombre] = rmse \n",
    "        print(f\"{nombre} - RMSE: {rmse:.2f}\")\n",
    "\n",
    "    return resultados"
   ]
  },
  {
   "cell_type": "code",
   "execution_count": 17,
   "metadata": {},
   "outputs": [
    {
     "name": "stdout",
     "output_type": "stream",
     "text": [
      "Regresion lineal - RMSE: 41.32\n",
      "Arbol de decision - RMSE: 39.17\n",
      "Bosque aleatorio - RMSE: 38.31\n",
      "XGboost - RMSE: 24.57\n"
     ]
    }
   ],
   "source": [
    "features = hourly_data[['horas', 'dia', 'semana', 'mes', 'año']]\n",
    "target = hourly_data['num_orders']\n",
    "\n",
    "resultados = entrenamiento(features, target)\n"
   ]
  },
  {
   "cell_type": "markdown",
   "metadata": {},
   "source": [
    "| Modelo               | RECM Resultados|\n",
    "|----------------------|--------------|\n",
    "| Regresión lineal     | 41.32     | \n",
    "| Árbol de decisión    | 39.17     |\n",
    "| Bosque aletorio      | 38.31     |\n",
    "| XGboost              | 24.57     | \n",
    "\n",
    "## Conclusion\n",
    "\n",
    "Se probaron tres modelos clásicos de *Machine Learning* (regresión lineal, árbol de decisión y bosque aleatorio) y un modelo de potenciación del gradiente (*XGBoost*).\n",
    "\n",
    "- **Regresión lineal** fue el modelo con menor desempeño, con un RECM de 41.32. Sin embargo, cumple con el límite establecido y sirve como prueba de cordura.\n",
    "- **Árbol de decisión** mejoró ligeramente, con un RECM de 39.17.\n",
    "- **Bosque aleatorio** obtuvo mejores resultados aún, con un RECM de 38.31, gracias al uso de múltiples árboles.\n",
    "- **XGBoost** fue el modelo con **mejor desempeño**, alcanzando un RECM de **24.57**, muy por debajo del umbral de 48, lo que representa casi la **mitad del error permitido**.\n",
    "\n",
    "Por lo tanto, **XGBoost es el modelo recomendado** para su implementación en producción, ya que combina **alta precisión, eficiencia en el tiempo de entrenamiento** y robustez ante datos complejos."
   ]
  },
  {
   "cell_type": "markdown",
   "metadata": {},
   "source": [
    "# Lista de revisión"
   ]
  },
  {
   "cell_type": "markdown",
   "metadata": {},
   "source": [
    "- [x]  \t\n",
    "Jupyter Notebook está abierto.\n",
    "- [ ]  El código no tiene errores\n",
    "- [ ]  Las celdas con el código han sido colocadas en el orden de ejecución.\n",
    "- [ ]  \t\n",
    "Los datos han sido descargados y preparados.\n",
    "- [ ]  Se ha realizado el paso 2: los datos han sido analizados\n",
    "- [ ]  Se entrenó el modelo y se seleccionaron los hiperparámetros\n",
    "- [ ]  Se han evaluado los modelos. Se expuso una conclusión\n",
    "- [ ] La *RECM* para el conjunto de prueba no es más de 48"
   ]
  }
 ],
 "metadata": {
  "kernelspec": {
   "display_name": "Python 3",
   "language": "python",
   "name": "python3"
  },
  "language_info": {
   "codemirror_mode": {
    "name": "ipython",
    "version": 3
   },
   "file_extension": ".py",
   "mimetype": "text/x-python",
   "name": "python",
   "nbconvert_exporter": "python",
   "pygments_lexer": "ipython3",
   "version": "3.13.3"
  }
 },
 "nbformat": 4,
 "nbformat_minor": 4
}
